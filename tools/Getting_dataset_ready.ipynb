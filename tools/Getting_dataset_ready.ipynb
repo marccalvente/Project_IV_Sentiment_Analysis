{
 "cells": [
  {
   "cell_type": "markdown",
   "id": "699ce803",
   "metadata": {},
   "source": [
    "### Import chats, "
   ]
  },
  {
   "cell_type": "code",
   "execution_count": 21,
   "id": "2b35f950",
   "metadata": {},
   "outputs": [],
   "source": [
    "import whatstk\n",
    "from whatstk import df_from_txt_whatsapp\n",
    "\n",
    "from deep_translator import GoogleTranslator\n",
    "\n",
    "import emoji\n",
    "\n",
    "from tqdm.notebook import tqdm_notebook\n",
    "import time"
   ]
  },
  {
   "cell_type": "code",
   "execution_count": 2,
   "id": "ba81dcb1",
   "metadata": {},
   "outputs": [],
   "source": [
    "chat = df_from_txt_whatsapp('../data/_chat.txt')"
   ]
  },
  {
   "cell_type": "markdown",
   "id": "a57b8ee4",
   "metadata": {},
   "source": [
    "Deleting messages with links, images or audios"
   ]
  },
  {
   "cell_type": "code",
   "execution_count": 3,
   "id": "2708b417",
   "metadata": {},
   "outputs": [],
   "source": [
    "def delete_message_with(chat_dataframe, text_to_delete):\n",
    "    \"\"\"\n",
    "        inputs: chat_dataframe: DataFrame, has to own a message column.\n",
    "                text_to_delete: str. The text that if contained in the message column the row will be deleted.\n",
    "        output: A DataFrame without the rows which message column contains the text_to_delete\n",
    "    \"\"\"\n",
    "    return chat_dataframe[~chat_dataframe[\"message\"].str.contains(text_to_delete, regex=False)]"
   ]
  },
  {
   "cell_type": "code",
   "execution_count": 4,
   "id": "5e2b062c",
   "metadata": {},
   "outputs": [],
   "source": [
    "chat = delete_message_with(chat, \".com/\")\n",
    "chat = delete_message_with(chat, \"imagen omitida\")\n",
    "chat = delete_message_with(chat, \"audio omitido\")"
   ]
  },
  {
   "cell_type": "code",
   "execution_count": 5,
   "id": "2bd88aa5",
   "metadata": {},
   "outputs": [],
   "source": [
    "chat[\"message\"] = chat[\"message\"].apply(lambda x: x.replace(\"\\u200e\", \"\"))"
   ]
  },
  {
   "cell_type": "markdown",
   "id": "1a69eff7",
   "metadata": {},
   "source": [
    "Create new column with string of the different emojis in the message"
   ]
  },
  {
   "cell_type": "code",
   "execution_count": 6,
   "id": "3b7f6e6c",
   "metadata": {},
   "outputs": [],
   "source": [
    "chat[\"emojis\"] = chat[\"message\"].apply(lambda message: ''.join(emoji.distinct_emoji_list(message)))"
   ]
  },
  {
   "cell_type": "code",
   "execution_count": 7,
   "id": "ebe3e598",
   "metadata": {},
   "outputs": [],
   "source": [
    " def remove_emojis(row):\n",
    "    \"\"\"\n",
    "        inputs: a row of a dataframe with a message column and a list of emojis column\n",
    "        outputs: the row with the emojis removed\n",
    "    \"\"\"\n",
    "    if row[\"emojis\"] == \"\":\n",
    "        return row[\"message\"]\n",
    "    else:\n",
    "        replaced = row[\"message\"]\n",
    "        for emoji_ in row[\"emojis\"]:\n",
    "            replaced = replaced.replace(emoji_, \"\")\n",
    "        return replaced"
   ]
  },
  {
   "cell_type": "markdown",
   "id": "0945fe14",
   "metadata": {},
   "source": [
    "Removing the emojis from the message column"
   ]
  },
  {
   "cell_type": "code",
   "execution_count": 8,
   "id": "286fedaf",
   "metadata": {},
   "outputs": [],
   "source": [
    "chat[\"message\"] = chat.apply(remove_emojis, axis=1)"
   ]
  },
  {
   "cell_type": "markdown",
   "id": "66dc0a5a",
   "metadata": {},
   "source": [
    "Create column with messages translated to english for performing NLP"
   ]
  },
  {
   "cell_type": "code",
   "execution_count": 9,
   "id": "2cdab53b",
   "metadata": {},
   "outputs": [],
   "source": [
    "def translate_text(message):\n",
    "    \"\"\"\n",
    "        inputs: str. A message to be translated.\n",
    "        outputs: str. The string translated to english\n",
    "    \"\"\"\n",
    "    try:\n",
    "        translation = GoogleTranslator(source='auto', target='en').translate(message)\n",
    "        return translation\n",
    "    except Exception as e:\n",
    "        print(e)\n",
    "        return \"\""
   ]
  },
  {
   "cell_type": "code",
   "execution_count": 11,
   "id": "bd4f54b0",
   "metadata": {},
   "outputs": [
    {
     "data": {
      "application/vnd.jupyter.widget-view+json": {
       "model_id": "2d28dc417e0241a29308f19b996c4036",
       "version_major": 2,
       "version_minor": 0
      },
      "text/plain": [
       "  0%|          | 0/37760 [00:00<?, ?it/s]"
      ]
     },
     "metadata": {},
     "output_type": "display_data"
    },
    {
     "name": "stdout",
     "output_type": "stream",
     "text": [
      "11 --> text must be a valid text with maximum 5000 character, otherwise it cannot be translated\n",
      "8 --> text must be a valid text with maximum 5000 character, otherwise it cannot be translated\n",
      "11 --> text must be a valid text with maximum 5000 character, otherwise it cannot be translated\n",
      "24 --> text must be a valid text with maximum 5000 character, otherwise it cannot be translated\n",
      "(\"Connection broken: ConnectionResetError(10054, 'Se ha forzado la interrupción de una conexión existente por el host remoto', None, 10054, None)\", ConnectionResetError(10054, 'Se ha forzado la interrupción de una conexión existente por el host remoto', None, 10054, None))\n",
      "500 --> text must be a valid text with maximum 5000 character, otherwise it cannot be translated\n",
      "19 --> text must be a valid text with maximum 5000 character, otherwise it cannot be translated\n",
      "2013 --> text must be a valid text with maximum 5000 character, otherwise it cannot be translated\n",
      "328055730 --> text must be a valid text with maximum 5000 character, otherwise it cannot be translated\n",
      "545 --> text must be a valid text with maximum 5000 character, otherwise it cannot be translated\n",
      "3 --> text must be a valid text with maximum 5000 character, otherwise it cannot be translated\n",
      "Request exception can happen due to an api connection error. Please check your connection and try again\n",
      "51 --> text must be a valid text with maximum 5000 character, otherwise it cannot be translated\n",
      "2013 --> text must be a valid text with maximum 5000 character, otherwise it cannot be translated\n",
      "6 --> text must be a valid text with maximum 5000 character, otherwise it cannot be translated\n",
      "8 --> text must be a valid text with maximum 5000 character, otherwise it cannot be translated\n",
      "08025 --> text must be a valid text with maximum 5000 character, otherwise it cannot be translated\n",
      "252555 --> text must be a valid text with maximum 5000 character, otherwise it cannot be translated\n",
      "2 --> text must be a valid text with maximum 5000 character, otherwise it cannot be translated\n",
      "252555 --> text must be a valid text with maximum 5000 character, otherwise it cannot be translated\n",
      "15 --> text must be a valid text with maximum 5000 character, otherwise it cannot be translated\n",
      "3 --> text must be a valid text with maximum 5000 character, otherwise it cannot be translated\n",
      "5 --> text must be a valid text with maximum 5000 character, otherwise it cannot be translated\n",
      "2 --> text must be a valid text with maximum 5000 character, otherwise it cannot be translated\n",
      "2007 --> text must be a valid text with maximum 5000 character, otherwise it cannot be translated\n",
      "7 --> text must be a valid text with maximum 5000 character, otherwise it cannot be translated\n",
      "7 --> text must be a valid text with maximum 5000 character, otherwise it cannot be translated\n"
     ]
    }
   ],
   "source": [
    "tqdm_notebook.pandas()\n",
    "chat[\"message_translated\"] = chat[\"message\"].progress_apply(lambda message: translate_text(message))"
   ]
  },
  {
   "cell_type": "code",
   "execution_count": 14,
   "id": "2840f3cd",
   "metadata": {},
   "outputs": [],
   "source": [
    "chat.reset_index(inplace=True, drop=True)"
   ]
  },
  {
   "cell_type": "code",
   "execution_count": 20,
   "id": "cdcac9df",
   "metadata": {},
   "outputs": [],
   "source": [
    "chat.to_csv(\"../data/_chat_translated.csv\", index=True)"
   ]
  }
 ],
 "metadata": {
  "kernelspec": {
   "display_name": "ironhack",
   "language": "python",
   "name": "ironhack"
  },
  "language_info": {
   "codemirror_mode": {
    "name": "ipython",
    "version": 3
   },
   "file_extension": ".py",
   "mimetype": "text/x-python",
   "name": "python",
   "nbconvert_exporter": "python",
   "pygments_lexer": "ipython3",
   "version": "3.9.12"
  }
 },
 "nbformat": 4,
 "nbformat_minor": 5
}
